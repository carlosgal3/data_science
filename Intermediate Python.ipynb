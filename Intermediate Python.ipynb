{
 "cells": [
  {
   "cell_type": "markdown",
   "id": "4c5a97fd-d7d8-4246-8510-8f5568e6daad",
   "metadata": {},
   "source": [
    "# if\n",
    "\n",
    "It's time to take a closer look around in your house.\n",
    "\n",
    "Two variables are defined in the sample code: room, a string that tells you which room of the house we're looking at, and area, the area of that room."
   ]
  },
  {
   "cell_type": "markdown",
   "id": "a7c5e97a-911a-41ff-b00c-d8a6010b19ac",
   "metadata": {},
   "source": [
    "Examine the if statement that prints out \"looking around in the kitchen.\" if room equals \"kit\".\n",
    "\n",
    "Write another if statement that prints out \"big place!\" if area is greater than 15"
   ]
  },
  {
   "cell_type": "code",
   "execution_count": 2,
   "id": "1675b3e2-13fb-425a-80d2-aa202425cf14",
   "metadata": {},
   "outputs": [
    {
     "name": "stdout",
     "output_type": "stream",
     "text": [
      "looking around in the kitchen.\n"
     ]
    }
   ],
   "source": [
    "# Define variables\n",
    "room = \"kit\"\n",
    "area = 14.0\n",
    "\n",
    "# if statement for room\n",
    "if room == \"kit\" :\n",
    "    print(\"looking around in the kitchen.\")\n",
    "\n",
    "# if statement for area\n",
    "if area > 15 :\n",
    "    print(\"big place!\")"
   ]
  },
  {
   "cell_type": "markdown",
   "id": "13288fa1-53b2-4cc0-be0a-5333d6649ab0",
   "metadata": {},
   "source": [
    "# Add else\n",
    "In the script, the if construct for room has been extended with an else statement so that \"looking around elsewhere.\" is printed if the condition room == \"kit\" evaluates to False.\n",
    "\n",
    "Can you do a similar thing to add more functionality to the if construct for area?"
   ]
  },
  {
   "cell_type": "markdown",
   "id": "a8871797-2e45-40ec-b00e-6047be3046f4",
   "metadata": {},
   "source": [
    "Instructions\n",
    "100 XP\n",
    "Add an else statement to the second control structure so that \"pretty small.\" is printed out if area > 15 evaluates to False."
   ]
  },
  {
   "cell_type": "code",
   "execution_count": 3,
   "id": "7a358d06-7028-4835-a3b4-719cc11ec711",
   "metadata": {},
   "outputs": [
    {
     "name": "stdout",
     "output_type": "stream",
     "text": [
      "looking around in the kitchen.\n",
      "pretty small.\n"
     ]
    }
   ],
   "source": [
    "# Define variables\n",
    "room = \"kit\"\n",
    "area = 14.0\n",
    "\n",
    "# if-else construct for room\n",
    "if room == \"kit\" :\n",
    "    print(\"looking around in the kitchen.\")\n",
    "else :\n",
    "    print(\"looking around elsewhere.\")\n",
    "\n",
    "# if-else construct for area\n",
    "if area > 15 :\n",
    "    print(\"big place!\")\n",
    "else: \n",
    "    print(\"pretty small.\")"
   ]
  },
  {
   "cell_type": "code",
   "execution_count": null,
   "id": "897e6878-a2ef-4810-9912-1d927531ee72",
   "metadata": {},
   "outputs": [],
   "source": []
  }
 ],
 "metadata": {
  "kernelspec": {
   "display_name": "Python 3 (ipykernel)",
   "language": "python",
   "name": "python3"
  },
  "language_info": {
   "codemirror_mode": {
    "name": "ipython",
    "version": 3
   },
   "file_extension": ".py",
   "mimetype": "text/x-python",
   "name": "python",
   "nbconvert_exporter": "python",
   "pygments_lexer": "ipython3",
   "version": "3.10.9"
  }
 },
 "nbformat": 4,
 "nbformat_minor": 5
}
