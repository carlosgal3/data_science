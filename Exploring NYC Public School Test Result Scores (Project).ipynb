{
 "cells": [
  {
   "cell_type": "code",
   "execution_count": null,
   "id": "691c3a59-d40c-4f7f-9253-d7c993b17945",
   "metadata": {},
   "outputs": [],
   "source": []
  },
  {
   "cell_type": "markdown",
   "id": "c12303a3-25c0-45d3-9c99-bb44b3f52e66",
   "metadata": {},
   "source": [
    "https://www.datacamp.com/datalab/w/ce6f6d10-8638-4f80-b0ee-a3fbbc2b4201/edit"
   ]
  }
 ],
 "metadata": {
  "kernelspec": {
   "display_name": "Python 3 (ipykernel)",
   "language": "python",
   "name": "python3"
  },
  "language_info": {
   "codemirror_mode": {
    "name": "ipython",
    "version": 3
   },
   "file_extension": ".py",
   "mimetype": "text/x-python",
   "name": "python",
   "nbconvert_exporter": "python",
   "pygments_lexer": "ipython3",
   "version": "3.10.9"
  }
 },
 "nbformat": 4,
 "nbformat_minor": 5
}
